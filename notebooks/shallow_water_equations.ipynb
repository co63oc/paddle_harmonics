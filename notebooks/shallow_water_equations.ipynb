{
 "cells": [
  {
   "attachments": {},
   "cell_type": "markdown",
   "metadata": {},
   "source": [
    "# Differentiable Shallow Water Equations\n",
    "\n",
    "We present a differentiable SWE solver, based on `paddle-harmonics`. "
   ]
  },
  {
   "cell_type": "code",
   "execution_count": 1,
   "metadata": {},
   "outputs": [],
   "source": [
    "import paddle\n",
    "import paddle.nn as nn\n",
    "import numpy as np\n",
    "import matplotlib.pyplot as plt\n",
    "import matplotlib.animation as animation\n",
    "\n",
    "from math import ceil, floor\n",
    "\n",
    "import sys\n",
    "sys.path.append(\"../\")\n",
    "from paddle_harmonics.sht import *\n",
    "from paddle_harmonics.examples import ShallowWaterSolver"
   ]
  },
  {
   "cell_type": "code",
   "execution_count": 2,
   "metadata": {},
   "outputs": [],
   "source": [
    "device = paddle.CUDAPlace(0) if paddle.device.cuda.device_count() > 0 else paddle.CPUPLace()"
   ]
  },
  {
   "attachments": {},
   "cell_type": "markdown",
   "metadata": {},
   "source": [
    "We define a shallow water solver class in `shallow_water_equations.py`"
   ]
  },
  {
   "cell_type": "code",
   "execution_count": 3,
   "metadata": {},
   "outputs": [
    {
     "name": "stderr",
     "output_type": "stream",
     "text": [
      "W1106 16:16:32.939814 68712 gpu_resources.cc:119] Please NOTE: device: 0, GPU Compute Capability: 7.5, Driver API Version: 12.3, Runtime API Version: 12.4\n",
      "W1106 16:16:32.940515 68712 gpu_resources.cc:164] device: 0, cuDNN Version: 9.4.\n"
     ]
    }
   ],
   "source": [
    "# initialize parameters:\n",
    "nlat = 512\n",
    "nlon = 2*nlat\n",
    "lmax = ceil(128)\n",
    "mmax = lmax\n",
    "# timestepping\n",
    "dt = 75\n",
    "maxiter = 12*int(86400/dt)\n",
    "\n",
    "# initialize solver class\n",
    "swe_solver = ShallowWaterSolver(nlat, nlon, dt, lmax=lmax, mmax=mmax).to(device)\n",
    "\n",
    "lons = swe_solver.lons\n",
    "lats = swe_solver.lats\n",
    "\n",
    "jj, ii = paddle.triu_indices(lmax, mmax)\n"
   ]
  },
  {
   "cell_type": "code",
   "execution_count": 4,
   "metadata": {},
   "outputs": [
    {
     "name": "stderr",
     "output_type": "stream",
     "text": [
      "W1106 16:16:35.730650 68712 dygraph_functions.cc:88576] got different data type, run type promotion automatically, this may cause data type been changed.\n",
      "W1106 16:16:35.732159 68712 multiply_fwd_func.cc:76] got different data type, run type promotion automatically, this may cause data type been changed.\n",
      "W1106 16:16:35.732687 68712 dygraph_functions.cc:86562] got different data type, run type promotion automatically, this may cause data type been changed.\n",
      "W1106 16:16:35.787277 68712 dygraph_functions.cc:85972] got different data type, run type promotion automatically, this may cause data type been changed.\n",
      "W1106 16:16:35.829222 68712 dygraph_functions.cc:81398] got different data type, run type promotion automatically, this may cause data type been changed.\n"
     ]
    },
    {
     "ename": "ValueError",
     "evalue": "(InvalidArgument) The type of data we are trying to retrieve (float64) does not match the type of data (float32) currently contained in the container.\n  [Hint: Expected dtype() == phi::CppTypeToDataType<T>::Type(), but received dtype():10 != phi::CppTypeToDataType<T>::Type():11.] (at /nfs/github/paddle/Paddle_fix2/paddle/phi/core/dense_tensor.cc:153)\n",
     "output_type": "error",
     "traceback": [
      "\u001b[0;31m---------------------------------------------------------------------------\u001b[0m",
      "\u001b[0;31mValueError\u001b[0m                                Traceback (most recent call last)",
      "Cell \u001b[0;32mIn[4], line 1\u001b[0m\n\u001b[0;32m----> 1\u001b[0m uspec0 \u001b[38;5;241m=\u001b[39m \u001b[43mswe_solver\u001b[49m\u001b[38;5;241;43m.\u001b[39;49m\u001b[43mgalewsky_initial_condition\u001b[49m\u001b[43m(\u001b[49m\u001b[43m)\u001b[49m    \n",
      "File \u001b[0;32m/nfs/github/paddle/paddle_harmonics/notebooks/../paddle_harmonics/examples/shallow_water_equations.py:242\u001b[0m, in \u001b[0;36mShallowWaterSolver.galewsky_initial_condition\u001b[0;34m(self)\u001b[0m\n\u001b[1;32m    234\u001b[0m hbump \u001b[38;5;241m=\u001b[39m (\n\u001b[1;32m    235\u001b[0m     \u001b[38;5;28mself\u001b[39m\u001b[38;5;241m.\u001b[39mhamp\n\u001b[1;32m    236\u001b[0m     \u001b[38;5;241m*\u001b[39m paddle\u001b[38;5;241m.\u001b[39mcos(lats)\n\u001b[1;32m    237\u001b[0m     \u001b[38;5;241m*\u001b[39m paddle\u001b[38;5;241m.\u001b[39mexp(\u001b[38;5;241m-\u001b[39m(((lons \u001b[38;5;241m-\u001b[39m np\u001b[38;5;241m.\u001b[39mpi) \u001b[38;5;241m/\u001b[39m alpha) \u001b[38;5;241m*\u001b[39m\u001b[38;5;241m*\u001b[39m \u001b[38;5;241m2\u001b[39m))\n\u001b[1;32m    238\u001b[0m     \u001b[38;5;241m*\u001b[39m paddle\u001b[38;5;241m.\u001b[39mexp(\u001b[38;5;241m-\u001b[39m((phi2 \u001b[38;5;241m-\u001b[39m lats) \u001b[38;5;241m*\u001b[39m\u001b[38;5;241m*\u001b[39m \u001b[38;5;241m2\u001b[39m) \u001b[38;5;241m/\u001b[39m beta)\n\u001b[1;32m    239\u001b[0m )\n\u001b[1;32m    241\u001b[0m \u001b[38;5;66;03m# intial velocity field\u001b[39;00m\n\u001b[0;32m--> 242\u001b[0m ugrid \u001b[38;5;241m=\u001b[39m \u001b[43mpaddle\u001b[49m\u001b[38;5;241;43m.\u001b[39;49m\u001b[43mstack\u001b[49m\u001b[43m(\u001b[49m\u001b[43m(\u001b[49m\u001b[43mugrid\u001b[49m\u001b[43m,\u001b[49m\u001b[43m \u001b[49m\u001b[43mvgrid\u001b[49m\u001b[43m)\u001b[49m\u001b[43m)\u001b[49m\n\u001b[1;32m    243\u001b[0m \u001b[38;5;66;03m# intial vorticity/divergence field\u001b[39;00m\n\u001b[1;32m    244\u001b[0m vrtdivspec \u001b[38;5;241m=\u001b[39m \u001b[38;5;28mself\u001b[39m\u001b[38;5;241m.\u001b[39mvrtdivspec(ugrid)\n",
      "File \u001b[0;32m/opt/miniforge3/envs/py310/lib/python3.10/site-packages/paddle/tensor/manipulation.py:2271\u001b[0m, in \u001b[0;36mstack\u001b[0;34m(x, axis, name)\u001b[0m\n\u001b[1;32m   2268\u001b[0m axis \u001b[38;5;241m=\u001b[39m \u001b[38;5;241m0\u001b[39m \u001b[38;5;28;01mif\u001b[39;00m axis \u001b[38;5;129;01mis\u001b[39;00m \u001b[38;5;28;01mNone\u001b[39;00m \u001b[38;5;28;01melse\u001b[39;00m axis\n\u001b[1;32m   2270\u001b[0m \u001b[38;5;28;01mif\u001b[39;00m in_dynamic_mode():\n\u001b[0;32m-> 2271\u001b[0m     \u001b[38;5;28;01mreturn\u001b[39;00m \u001b[43m_C_ops\u001b[49m\u001b[38;5;241;43m.\u001b[39;49m\u001b[43mstack\u001b[49m\u001b[43m(\u001b[49m\u001b[43mx\u001b[49m\u001b[43m,\u001b[49m\u001b[43m \u001b[49m\u001b[43maxis\u001b[49m\u001b[43m)\u001b[49m\n\u001b[1;32m   2273\u001b[0m \u001b[38;5;28;01mif\u001b[39;00m \u001b[38;5;129;01mnot\u001b[39;00m \u001b[38;5;28misinstance\u001b[39m(x, \u001b[38;5;28mlist\u001b[39m) \u001b[38;5;129;01mand\u001b[39;00m \u001b[38;5;129;01mnot\u001b[39;00m \u001b[38;5;28misinstance\u001b[39m(x, \u001b[38;5;28mtuple\u001b[39m):\n\u001b[1;32m   2274\u001b[0m     \u001b[38;5;66;03m# NOTE:(zhiqiu) Only support Variable as input if the Variable is a LOD_TENSOR_ARRAY create by create_array, array_write, array_read, etc.\u001b[39;00m\n\u001b[1;32m   2275\u001b[0m     \u001b[38;5;66;03m# In that case, Variable is array of tensors indeed.\u001b[39;00m\n\u001b[1;32m   2276\u001b[0m     \u001b[38;5;28;01mif\u001b[39;00m (\n\u001b[1;32m   2277\u001b[0m         \u001b[38;5;28misinstance\u001b[39m(x, Variable)\n\u001b[1;32m   2278\u001b[0m         \u001b[38;5;129;01mand\u001b[39;00m x\u001b[38;5;241m.\u001b[39mdesc\u001b[38;5;241m.\u001b[39mtype() \u001b[38;5;241m==\u001b[39m core\u001b[38;5;241m.\u001b[39mVarDesc\u001b[38;5;241m.\u001b[39mVarType\u001b[38;5;241m.\u001b[39mLOD_TENSOR_ARRAY\n\u001b[1;32m   2279\u001b[0m     ) \u001b[38;5;129;01mor\u001b[39;00m (\n\u001b[1;32m   2280\u001b[0m         \u001b[38;5;28misinstance\u001b[39m(x, paddle\u001b[38;5;241m.\u001b[39mpir\u001b[38;5;241m.\u001b[39mValue) \u001b[38;5;129;01mand\u001b[39;00m x\u001b[38;5;241m.\u001b[39mis_dense_tensor_array_type()\n\u001b[1;32m   2281\u001b[0m     ):\n",
      "\u001b[0;31mValueError\u001b[0m: (InvalidArgument) The type of data we are trying to retrieve (float64) does not match the type of data (float32) currently contained in the container.\n  [Hint: Expected dtype() == phi::CppTypeToDataType<T>::Type(), but received dtype():10 != phi::CppTypeToDataType<T>::Type():11.] (at /nfs/github/paddle/Paddle_fix2/paddle/phi/core/dense_tensor.cc:153)\n"
     ]
    }
   ],
   "source": [
    "uspec0 = swe_solver.galewsky_initial_condition()    "
   ]
  },
  {
   "attachments": {},
   "cell_type": "markdown",
   "metadata": {},
   "source": [
    "We are now ready to run the simulation. To perform integration in time, we will use third-order Adams-Bashforth. As we are currently not interested in gradients, we can wrap the function in `paddle.no_grad()`."
   ]
  },
  {
   "cell_type": "code",
   "execution_count": null,
   "metadata": {},
   "outputs": [],
   "source": [
    "dudtspec = paddle.zeros([3, 3, swe_solver.lmax, swe_solver.mmax], dtype=paddle.complex128)\n",
    "inew = 0\n",
    "inow = 1\n",
    "iold = 2\n",
    "\n",
    "uspec = uspec0.clone().to(device)\n",
    "\n",
    "# save for later:\n",
    "nskip = 50\n",
    "utspec = paddle.zeros([floor(maxiter//nskip) + 1, *uspec.shape]).astype(\"complex128\").to(device)\n",
    "\n",
    "with paddle.no_grad():\n",
    "    for iter in range(maxiter+1):\n",
    "        t = iter*dt\n",
    "\n",
    "        if iter % nskip == 0:\n",
    "            utspec[iter//nskip] = uspec\n",
    "            print(f\"t={t/3600:.2f} hours\")\n",
    "\n",
    "        dudtspec[inew] = swe_solver.dudtspec(uspec)\n",
    "        \n",
    "        # update vort,div,phiv with third-order adams-bashforth.\n",
    "        # forward euler, then 2nd-order adams-bashforth time steps to start.\n",
    "        if iter == 0:\n",
    "            dudtspec[inow] = dudtspec[inew]\n",
    "            dudtspec[iold] = dudtspec[inew]\n",
    "        elif iter == 1:\n",
    "            dudtspec[iold] = dudtspec[inew]\n",
    "\n",
    "        uspec = uspec + swe_solver.dt*( (23./12.) * dudtspec[inew] - (16./12.) * dudtspec[inow] + (5./12.) * dudtspec[iold] )\n",
    "\n",
    "        # implicit hyperdiffusion for vort and div.\n",
    "        uspec[1:] = swe_solver.hyperdiff * uspec[1:]\n",
    "        # cycle through the indices\n",
    "        inew = (inew - 1) % 3\n",
    "        inow = (inow - 1) % 3\n",
    "        iold = (iold - 1) % 3\n"
   ]
  },
  {
   "cell_type": "code",
   "execution_count": null,
   "metadata": {},
   "outputs": [],
   "source": [
    "fig = plt.figure()\n",
    "im = swe_solver.plot_specdata(uspec[1], fig, cmap=\"twilight_shifted\")\n",
    "plt.show()"
   ]
  },
  {
   "attachments": {},
   "cell_type": "markdown",
   "metadata": {},
   "source": [
    "### Plotting a video\n",
    "\n",
    "let us plot the vorticity for our rollout:"
   ]
  },
  {
   "cell_type": "code",
   "execution_count": null,
   "metadata": {},
   "outputs": [],
   "source": [
    "# prepare figure for animation\n",
    "fig = plt.figure(figsize=(8, 6), dpi=72)\n",
    "moviewriter = animation.writers['pillow'](fps=20)\n",
    "moviewriter.setup(fig, './plots/zonal_jet.gif', dpi=72)\n",
    "\n",
    "plot_pvrt = False\n",
    "\n",
    "for i in range(utspec.shape[0]):\n",
    "    t = i*nskip*dt\n",
    "\n",
    "    if plot_pvrt:\n",
    "        variable = swe_solver.potential_vorticity(utspec[i])\n",
    "    else:\n",
    "        variable = swe_solver.spec2grid(utspec[i, 1])\n",
    "\n",
    "    plt.clf()\n",
    "    # swe_solver.plot_griddata(variable, cmap=cmap, vmin=-0.2, vmax=1.8, title=f'zonal jet t={t/3600:.2f} hours')\n",
    "    swe_solver.plot_griddata(variable, fig, cmap=\"twilight_shifted\", antialiased=False)\n",
    "    plt.draw()\n",
    "    moviewriter.grab_frame()\n",
    "\n",
    "\n",
    "moviewriter.finish()"
   ]
  },
  {
   "attachments": {},
   "cell_type": "markdown",
   "metadata": {},
   "source": [
    "## Conservation of potential vorticity"
   ]
  },
  {
   "cell_type": "code",
   "execution_count": null,
   "metadata": {},
   "outputs": [],
   "source": [
    "pvrttspec = paddle.zeros([floor(maxiter//nskip) + 1, lmax, mmax]).astype(\"complex128\").to(device)\n",
    "for i in range(utspec.shape[0]):\n",
    "    pvrttspec[i] = swe_solver.grid2spec(swe_solver.potential_vorticity(utspec[i]))"
   ]
  },
  {
   "cell_type": "code",
   "execution_count": null,
   "metadata": {},
   "outputs": [],
   "source": [
    "total_vrt = pvrttspec.abs()**2\n",
    "# total_vrt = utspec[..., 1, :, :].abs()**2\n",
    "total_vrt = paddle.sqrt(paddle.sum(total_vrt[..., :1], dim=(-1, -2)) + paddle.sum(2 * total_vrt[..., 1:], dim=(-1, -2))).cpu()\n",
    "t = nskip*dt * paddle.arange(utspec.shape[0])\n",
    "\n",
    "plt.plot(t, total_vrt / total_vrt[0], label='Spectral Solver')\n",
    "plt.title('Total vorticity over time')\n",
    "plt.ylim((0,1))\n",
    "plt.legend(loc='lower left')"
   ]
  }
 ],
 "metadata": {
  "kernelspec": {
   "display_name": "Python 3 (ipykernel)",
   "language": "python",
   "name": "python3"
  },
  "language_info": {
   "codemirror_mode": {
    "name": "ipython",
    "version": 3
   },
   "file_extension": ".py",
   "mimetype": "text/x-python",
   "name": "python",
   "nbconvert_exporter": "python",
   "pygments_lexer": "ipython3",
   "version": "3.10.13"
  },
  "vscode": {
   "interpreter": {
    "hash": "31f2aee4e71d21fbe5cf8b01ff0e069b9275f58929596ceb00d14d90e3e16cd6"
   }
  }
 },
 "nbformat": 4,
 "nbformat_minor": 4
}
